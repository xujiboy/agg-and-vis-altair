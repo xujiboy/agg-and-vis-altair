{
 "cells": [
  {
   "cell_type": "markdown",
   "metadata": {},
   "source": [
    "# Use Altair to visualize large data"
   ]
  },
  {
   "cell_type": "markdown",
   "metadata": {},
   "source": [
    "## 1. Library import"
   ]
  },
  {
   "cell_type": "code",
   "execution_count": 1,
   "metadata": {},
   "outputs": [
    {
     "data": {
      "text/plain": [
       "DataTransformerRegistry.enable('json')"
      ]
     },
     "execution_count": 1,
     "metadata": {},
     "output_type": "execute_result"
    }
   ],
   "source": [
    "import numpy as np\n",
    "import pandas as pd\n",
    "import altair as alt\n",
    "alt.data_transformers.enable('json')  # automatically save chart spec as json"
   ]
  },
  {
   "cell_type": "markdown",
   "metadata": {},
   "source": [
    "## 2. Experiment: feed data directly to Altair _vs_ Pandas preprocessing + Altair "
   ]
  },
  {
   "cell_type": "code",
   "execution_count": 2,
   "metadata": {},
   "outputs": [],
   "source": [
    "def create_2d_gaussian_data(num_of_grids:int):\n",
    "    ''' create a [num_of_grids] by [num_of_grids] 2d Gaussian-like array\n",
    "    '''\n",
    "    # 2d array for x and y\n",
    "    x,y = np.meshgrid(np.linspace(-1,1,num_of_grids), \n",
    "                      np.linspace(-1,1,num_of_grids))\n",
    "    \n",
    "    # generate 2d Gaussian-like array\n",
    "    d_to_center = np.sqrt(x**2 + y**2)\n",
    "    sigma, mu = 1.0, 0.0\n",
    "    g = np.exp(-0.5 * (d_to_center-mu)**2 / sigma**2)\n",
    "    \n",
    "    # convert to dataframe\n",
    "    frame = pd.DataFrame()\n",
    "    frame = frame.assign(x=x.flatten(), y=y.flatten(), g=g.flatten())\n",
    "    \n",
    "    return frame"
   ]
  },
  {
   "cell_type": "code",
   "execution_count": 3,
   "metadata": {},
   "outputs": [
    {
     "name": "stdout",
     "output_type": "stream",
     "text": [
      "chart 2dGaussian_grid_100.json saved.\n",
      "chart 2dGaussian_grid_100_red.json saved.\n",
      "chart 2dGaussian_grid_200.json saved.\n",
      "chart 2dGaussian_grid_200_red.json saved.\n",
      "chart 2dGaussian_grid_400.json saved.\n",
      "chart 2dGaussian_grid_400_red.json saved.\n",
      "chart 2dGaussian_grid_800.json saved.\n",
      "chart 2dGaussian_grid_800_red.json saved.\n",
      "chart 2dGaussian_grid_1600.json saved.\n",
      "chart 2dGaussian_grid_1600_red.json saved.\n",
      "chart 2dGaussian_grid_3200.json saved.\n",
      "chart 2dGaussian_grid_3200_red.json saved.\n"
     ]
    }
   ],
   "source": [
    "# experiment\n",
    "for n in range(6):\n",
    "    n_grid = 100*2**n\n",
    "    \n",
    "    # exp_A: feed data directly to Altair\n",
    "    data = create_2d_gaussian_data(n_grid)\n",
    "    chart = alt.Chart(data, width=500, height=500).mark_square().encode(\n",
    "    alt.X('x:Q', bin=alt.Bin(maxbins=100)),\n",
    "    alt.Y('y:Q', bin=alt.Bin(maxbins=100)),\n",
    "    alt.Color('sum(g):Q'),\n",
    "    alt.Tooltip([\n",
    "        \"x:Q\",\n",
    "        \"y:Q\",\n",
    "        \"sum(g):Q\"\n",
    "        ])\n",
    "    )\n",
    "    chart.savechart(f'json/2dGaussian_grid_{n_grid}.json')\n",
    "    print(f'chart 2dGaussian_grid_{n_grid}.json saved.')\n",
    "    \n",
    "    # exp_B: Pandas preprocessing + Altair\n",
    "    data2 = (data.copy()\n",
    "             .assign(x_cut=pd.qcut(data.x, 100).apply(lambda x:x.mid))\n",
    "             .assign(y_cut=pd.qcut(data.y, 100).apply(lambda y:y.mid))\n",
    "             .groupby(['x_cut','y_cut'])['g'].agg('mean')\n",
    "             .reset_index()\n",
    "        )\n",
    "    chart = alt.Chart(data2, width=500, height=500).mark_square().encode(\n",
    "    alt.X('x_cut:Q'),\n",
    "    alt.Y('y_cut:Q'),\n",
    "    alt.Color('g:Q'),\n",
    "    alt.Tooltip([\n",
    "        \"x_cut:Q\",\n",
    "        \"y_cut:Q\",\n",
    "        \"g:Q\"\n",
    "        ])\n",
    "    )\n",
    "    chart.save(f'json/2dGaussian_grid_{n_grid}_red.json')\n",
    "    print(f'chart 2dGaussian_grid_{n_grid}_red.json saved.')\n",
    "    \n",
    "    "
   ]
  },
  {
   "cell_type": "code",
   "execution_count": 10,
   "metadata": {},
   "outputs": [],
   "source": [
    "# record the json file sizes\n",
    "!ls -lS json/2dGaussian_grid_*.json | awk '{print $5\" \"$9}' > file_size.txt"
   ]
  },
  {
   "cell_type": "code",
   "execution_count": 19,
   "metadata": {},
   "outputs": [],
   "source": [
    "# obtain the file_size dataframe\n",
    "import re\n",
    "\n",
    "file_size = pd.read_csv('file_size.txt', sep=' ', names=['file_size','file_name'])\n",
    "file_size = (file_size.assign( n_grids = file_size.file_name.apply(lambda s: int(re.match('.*_([0-9]+).*json', s).group(1))))\n",
    "                      .assign(preprocessing = file_size.file_name.apply(lambda x: re.match('.*_red.json', x) is not None))\n",
    "                      .eval('n_rows = n_grids**2')\n",
    "            )"
   ]
  },
  {
   "cell_type": "code",
   "execution_count": 20,
   "metadata": {},
   "outputs": [
    {
     "data": {
      "text/html": [
       "<div>\n",
       "<style scoped>\n",
       "    .dataframe tbody tr th:only-of-type {\n",
       "        vertical-align: middle;\n",
       "    }\n",
       "\n",
       "    .dataframe tbody tr th {\n",
       "        vertical-align: top;\n",
       "    }\n",
       "\n",
       "    .dataframe thead th {\n",
       "        text-align: right;\n",
       "    }\n",
       "</style>\n",
       "<table border=\"1\" class=\"dataframe\">\n",
       "  <thead>\n",
       "    <tr style=\"text-align: right;\">\n",
       "      <th></th>\n",
       "      <th>file_size</th>\n",
       "      <th>file_name</th>\n",
       "      <th>n_grids</th>\n",
       "      <th>preprocessing</th>\n",
       "      <th>n_rows</th>\n",
       "    </tr>\n",
       "  </thead>\n",
       "  <tbody>\n",
       "    <tr>\n",
       "      <th>0</th>\n",
       "      <td>803045671</td>\n",
       "      <td>json/2dGaussian_grid_3200.json</td>\n",
       "      <td>3200</td>\n",
       "      <td>False</td>\n",
       "      <td>10240000</td>\n",
       "    </tr>\n",
       "    <tr>\n",
       "      <th>1</th>\n",
       "      <td>200814293</td>\n",
       "      <td>json/2dGaussian_grid_1600.json</td>\n",
       "      <td>1600</td>\n",
       "      <td>False</td>\n",
       "      <td>2560000</td>\n",
       "    </tr>\n",
       "    <tr>\n",
       "      <th>2</th>\n",
       "      <td>50163678</td>\n",
       "      <td>json/2dGaussian_grid_800.json</td>\n",
       "      <td>800</td>\n",
       "      <td>False</td>\n",
       "      <td>640000</td>\n",
       "    </tr>\n",
       "    <tr>\n",
       "      <th>3</th>\n",
       "      <td>12521080</td>\n",
       "      <td>json/2dGaussian_grid_400.json</td>\n",
       "      <td>400</td>\n",
       "      <td>False</td>\n",
       "      <td>160000</td>\n",
       "    </tr>\n",
       "    <tr>\n",
       "      <th>4</th>\n",
       "      <td>3127835</td>\n",
       "      <td>json/2dGaussian_grid_200.json</td>\n",
       "      <td>200</td>\n",
       "      <td>False</td>\n",
       "      <td>40000</td>\n",
       "    </tr>\n",
       "    <tr>\n",
       "      <th>5</th>\n",
       "      <td>779293</td>\n",
       "      <td>json/2dGaussian_grid_100.json</td>\n",
       "      <td>100</td>\n",
       "      <td>False</td>\n",
       "      <td>10000</td>\n",
       "    </tr>\n",
       "    <tr>\n",
       "      <th>6</th>\n",
       "      <td>636131</td>\n",
       "      <td>json/2dGaussian_grid_800_red.json</td>\n",
       "      <td>800</td>\n",
       "      <td>True</td>\n",
       "      <td>640000</td>\n",
       "    </tr>\n",
       "    <tr>\n",
       "      <th>7</th>\n",
       "      <td>636111</td>\n",
       "      <td>json/2dGaussian_grid_200_red.json</td>\n",
       "      <td>200</td>\n",
       "      <td>True</td>\n",
       "      <td>40000</td>\n",
       "    </tr>\n",
       "    <tr>\n",
       "      <th>8</th>\n",
       "      <td>636068</td>\n",
       "      <td>json/2dGaussian_grid_400_red.json</td>\n",
       "      <td>400</td>\n",
       "      <td>True</td>\n",
       "      <td>160000</td>\n",
       "    </tr>\n",
       "    <tr>\n",
       "      <th>9</th>\n",
       "      <td>636031</td>\n",
       "      <td>json/2dGaussian_grid_1600_red.json</td>\n",
       "      <td>1600</td>\n",
       "      <td>True</td>\n",
       "      <td>2560000</td>\n",
       "    </tr>\n",
       "    <tr>\n",
       "      <th>10</th>\n",
       "      <td>636019</td>\n",
       "      <td>json/2dGaussian_grid_100_red.json</td>\n",
       "      <td>100</td>\n",
       "      <td>True</td>\n",
       "      <td>10000</td>\n",
       "    </tr>\n",
       "    <tr>\n",
       "      <th>11</th>\n",
       "      <td>635996</td>\n",
       "      <td>json/2dGaussian_grid_3200_red.json</td>\n",
       "      <td>3200</td>\n",
       "      <td>True</td>\n",
       "      <td>10240000</td>\n",
       "    </tr>\n",
       "  </tbody>\n",
       "</table>\n",
       "</div>"
      ],
      "text/plain": [
       "    file_size                           file_name  n_grids  preprocessing  \\\n",
       "0   803045671      json/2dGaussian_grid_3200.json     3200          False   \n",
       "1   200814293      json/2dGaussian_grid_1600.json     1600          False   \n",
       "2    50163678       json/2dGaussian_grid_800.json      800          False   \n",
       "3    12521080       json/2dGaussian_grid_400.json      400          False   \n",
       "4     3127835       json/2dGaussian_grid_200.json      200          False   \n",
       "5      779293       json/2dGaussian_grid_100.json      100          False   \n",
       "6      636131   json/2dGaussian_grid_800_red.json      800           True   \n",
       "7      636111   json/2dGaussian_grid_200_red.json      200           True   \n",
       "8      636068   json/2dGaussian_grid_400_red.json      400           True   \n",
       "9      636031  json/2dGaussian_grid_1600_red.json     1600           True   \n",
       "10     636019   json/2dGaussian_grid_100_red.json      100           True   \n",
       "11     635996  json/2dGaussian_grid_3200_red.json     3200           True   \n",
       "\n",
       "      n_rows  \n",
       "0   10240000  \n",
       "1    2560000  \n",
       "2     640000  \n",
       "3     160000  \n",
       "4      40000  \n",
       "5      10000  \n",
       "6     640000  \n",
       "7      40000  \n",
       "8     160000  \n",
       "9    2560000  \n",
       "10     10000  \n",
       "11  10240000  "
      ]
     },
     "execution_count": 20,
     "metadata": {},
     "output_type": "execute_result"
    }
   ],
   "source": [
    "file_size"
   ]
  },
  {
   "cell_type": "code",
   "execution_count": 21,
   "metadata": {},
   "outputs": [
    {
     "data": {
      "application/vnd.vegalite.v2+json": {
       "$schema": "https://vega.github.io/schema/vega-lite/v2.6.0.json",
       "config": {
        "view": {
         "height": 300,
         "width": 400
        }
       },
       "layer": [
        {
         "data": {
          "format": {
           "type": "json"
          },
          "url": "altair-data-e9d08686462b36c1f8ebb175102cc668.json"
         },
         "encoding": {
          "color": {
           "field": "preprocessing",
           "type": "nominal"
          },
          "x": {
           "field": "n_rows",
           "type": "quantitative"
          },
          "y": {
           "axis": {
            "format": "~s"
           },
           "field": "file_size",
           "type": "quantitative"
          }
         },
         "mark": "trail"
        },
        {
         "data": {
          "format": {
           "type": "json"
          },
          "url": "altair-data-e9d08686462b36c1f8ebb175102cc668.json"
         },
         "encoding": {
          "color": {
           "field": "preprocessing",
           "type": "nominal"
          },
          "x": {
           "field": "n_rows",
           "type": "quantitative"
          },
          "y": {
           "axis": {
            "format": "~s"
           },
           "field": "file_size",
           "type": "quantitative"
          }
         },
         "mark": "point"
        }
       ]
      },
      "image/png": "[encoded data removed]",
      "text/plain": [
       "<VegaLite 2 object>\n",
       "\n",
       "If you see this message, it means the renderer has not been properly enabled\n",
       "for the frontend that you are using. For more information, see\n",
       "https://altair-viz.github.io/user_guide/troubleshooting.html\n"
      ]
     },
     "execution_count": 21,
     "metadata": {},
     "output_type": "execute_result"
    }
   ],
   "source": [
    "# json file size vs num of rows in data\n",
    "chart = alt.Chart(file_size).encode(\n",
    "    x='n_rows:Q',\n",
    "    y=alt.Y('file_size:Q', axis=alt.Axis(format=\"~s\")),\n",
    "    color='preprocessing:N'\n",
    ")\n",
    "chart.mark_trail() + chart.mark_point()"
   ]
  },
  {
   "cell_type": "code",
   "execution_count": null,
   "metadata": {},
   "outputs": [],
   "source": []
  }
 ],
 "metadata": {
  "kernelspec": {
   "display_name": "Python 3",
   "language": "python",
   "name": "python3"
  },
  "language_info": {
   "codemirror_mode": {
    "name": "ipython",
    "version": 3
   },
   "file_extension": ".py",
   "mimetype": "text/x-python",
   "name": "python",
   "nbconvert_exporter": "python",
   "pygments_lexer": "ipython3",
   "version": "3.6.4"
  }
 },
 "nbformat": 4,
 "nbformat_minor": 2
}
